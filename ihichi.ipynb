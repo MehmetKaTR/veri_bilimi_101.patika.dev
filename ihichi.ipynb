{
 "cells": [
  {
   "cell_type": "code",
   "execution_count": 20,
   "id": "f860c249-bb95-4eb8-982c-563fb0861987",
   "metadata": {},
   "outputs": [],
   "source": [
    "import pandas as pd\n",
    "import numpy as np"
   ]
  },
  {
   "cell_type": "code",
   "execution_count": 5,
   "id": "ed7a70e4-8152-4835-89b7-d6d29b0a7fb0",
   "metadata": {},
   "outputs": [],
   "source": [
    "df=pd.read_csv(\"Advertising.csv\",usecols=[1,2,3,4])"
   ]
  },
  {
   "cell_type": "code",
   "execution_count": 7,
   "id": "fe638ee3-0587-4dc7-902f-687901b1c056",
   "metadata": {},
   "outputs": [
    {
     "data": {
      "text/html": [
       "<div>\n",
       "<style scoped>\n",
       "    .dataframe tbody tr th:only-of-type {\n",
       "        vertical-align: middle;\n",
       "    }\n",
       "\n",
       "    .dataframe tbody tr th {\n",
       "        vertical-align: top;\n",
       "    }\n",
       "\n",
       "    .dataframe thead th {\n",
       "        text-align: right;\n",
       "    }\n",
       "</style>\n",
       "<table border=\"1\" class=\"dataframe\">\n",
       "  <thead>\n",
       "    <tr style=\"text-align: right;\">\n",
       "      <th></th>\n",
       "      <th>TV</th>\n",
       "      <th>Radio</th>\n",
       "      <th>Newspaper</th>\n",
       "      <th>Sales</th>\n",
       "    </tr>\n",
       "  </thead>\n",
       "  <tbody>\n",
       "    <tr>\n",
       "      <th>0</th>\n",
       "      <td>230.1</td>\n",
       "      <td>37.8</td>\n",
       "      <td>69.2</td>\n",
       "      <td>22.1</td>\n",
       "    </tr>\n",
       "    <tr>\n",
       "      <th>1</th>\n",
       "      <td>44.5</td>\n",
       "      <td>39.3</td>\n",
       "      <td>45.1</td>\n",
       "      <td>10.4</td>\n",
       "    </tr>\n",
       "    <tr>\n",
       "      <th>2</th>\n",
       "      <td>17.2</td>\n",
       "      <td>45.9</td>\n",
       "      <td>69.3</td>\n",
       "      <td>9.3</td>\n",
       "    </tr>\n",
       "    <tr>\n",
       "      <th>3</th>\n",
       "      <td>151.5</td>\n",
       "      <td>41.3</td>\n",
       "      <td>58.5</td>\n",
       "      <td>18.5</td>\n",
       "    </tr>\n",
       "    <tr>\n",
       "      <th>4</th>\n",
       "      <td>180.8</td>\n",
       "      <td>10.8</td>\n",
       "      <td>58.4</td>\n",
       "      <td>12.9</td>\n",
       "    </tr>\n",
       "  </tbody>\n",
       "</table>\n",
       "</div>"
      ],
      "text/plain": [
       "      TV  Radio  Newspaper  Sales\n",
       "0  230.1   37.8       69.2   22.1\n",
       "1   44.5   39.3       45.1   10.4\n",
       "2   17.2   45.9       69.3    9.3\n",
       "3  151.5   41.3       58.5   18.5\n",
       "4  180.8   10.8       58.4   12.9"
      ]
     },
     "execution_count": 7,
     "metadata": {},
     "output_type": "execute_result"
    }
   ],
   "source": [
    "df.head()"
   ]
  },
  {
   "cell_type": "code",
   "execution_count": 11,
   "id": "51d85c23-b51d-456f-ba87-e5d9d7d3bdf7",
   "metadata": {},
   "outputs": [],
   "source": [
    "X=df.drop(\"Sales\",axis=1)  #bağımsız değişkenler"
   ]
  },
  {
   "cell_type": "code",
   "execution_count": 10,
   "id": "6581d04a-a9e1-4308-a4ef-56ca7605729e",
   "metadata": {},
   "outputs": [
    {
     "data": {
      "text/html": [
       "<div>\n",
       "<style scoped>\n",
       "    .dataframe tbody tr th:only-of-type {\n",
       "        vertical-align: middle;\n",
       "    }\n",
       "\n",
       "    .dataframe tbody tr th {\n",
       "        vertical-align: top;\n",
       "    }\n",
       "\n",
       "    .dataframe thead th {\n",
       "        text-align: right;\n",
       "    }\n",
       "</style>\n",
       "<table border=\"1\" class=\"dataframe\">\n",
       "  <thead>\n",
       "    <tr style=\"text-align: right;\">\n",
       "      <th></th>\n",
       "      <th>TV</th>\n",
       "      <th>Radio</th>\n",
       "      <th>Newspaper</th>\n",
       "    </tr>\n",
       "  </thead>\n",
       "  <tbody>\n",
       "    <tr>\n",
       "      <th>0</th>\n",
       "      <td>230.1</td>\n",
       "      <td>37.8</td>\n",
       "      <td>69.2</td>\n",
       "    </tr>\n",
       "    <tr>\n",
       "      <th>1</th>\n",
       "      <td>44.5</td>\n",
       "      <td>39.3</td>\n",
       "      <td>45.1</td>\n",
       "    </tr>\n",
       "    <tr>\n",
       "      <th>2</th>\n",
       "      <td>17.2</td>\n",
       "      <td>45.9</td>\n",
       "      <td>69.3</td>\n",
       "    </tr>\n",
       "    <tr>\n",
       "      <th>3</th>\n",
       "      <td>151.5</td>\n",
       "      <td>41.3</td>\n",
       "      <td>58.5</td>\n",
       "    </tr>\n",
       "    <tr>\n",
       "      <th>4</th>\n",
       "      <td>180.8</td>\n",
       "      <td>10.8</td>\n",
       "      <td>58.4</td>\n",
       "    </tr>\n",
       "  </tbody>\n",
       "</table>\n",
       "</div>"
      ],
      "text/plain": [
       "      TV  Radio  Newspaper\n",
       "0  230.1   37.8       69.2\n",
       "1   44.5   39.3       45.1\n",
       "2   17.2   45.9       69.3\n",
       "3  151.5   41.3       58.5\n",
       "4  180.8   10.8       58.4"
      ]
     },
     "execution_count": 10,
     "metadata": {},
     "output_type": "execute_result"
    }
   ],
   "source": [
    "X.head()"
   ]
  },
  {
   "cell_type": "code",
   "execution_count": 58,
   "id": "0775ec1e-4161-4000-a626-edb9c27bdaf2",
   "metadata": {},
   "outputs": [],
   "source": [
    "y=df[[\"Sales\"]]   #bağımlı değişken"
   ]
  },
  {
   "cell_type": "code",
   "execution_count": 59,
   "id": "1e1bfc09-34c6-4708-9456-6ebc21b731a8",
   "metadata": {},
   "outputs": [
    {
     "data": {
      "text/html": [
       "<div>\n",
       "<style scoped>\n",
       "    .dataframe tbody tr th:only-of-type {\n",
       "        vertical-align: middle;\n",
       "    }\n",
       "\n",
       "    .dataframe tbody tr th {\n",
       "        vertical-align: top;\n",
       "    }\n",
       "\n",
       "    .dataframe thead th {\n",
       "        text-align: right;\n",
       "    }\n",
       "</style>\n",
       "<table border=\"1\" class=\"dataframe\">\n",
       "  <thead>\n",
       "    <tr style=\"text-align: right;\">\n",
       "      <th></th>\n",
       "      <th>Sales</th>\n",
       "    </tr>\n",
       "  </thead>\n",
       "  <tbody>\n",
       "    <tr>\n",
       "      <th>0</th>\n",
       "      <td>22.1</td>\n",
       "    </tr>\n",
       "    <tr>\n",
       "      <th>1</th>\n",
       "      <td>10.4</td>\n",
       "    </tr>\n",
       "    <tr>\n",
       "      <th>2</th>\n",
       "      <td>9.3</td>\n",
       "    </tr>\n",
       "    <tr>\n",
       "      <th>3</th>\n",
       "      <td>18.5</td>\n",
       "    </tr>\n",
       "    <tr>\n",
       "      <th>4</th>\n",
       "      <td>12.9</td>\n",
       "    </tr>\n",
       "  </tbody>\n",
       "</table>\n",
       "</div>"
      ],
      "text/plain": [
       "   Sales\n",
       "0   22.1\n",
       "1   10.4\n",
       "2    9.3\n",
       "3   18.5\n",
       "4   12.9"
      ]
     },
     "execution_count": 59,
     "metadata": {},
     "output_type": "execute_result"
    }
   ],
   "source": [
    "y.head()"
   ]
  },
  {
   "cell_type": "code",
   "execution_count": 17,
   "id": "9eddee75-6688-4ce0-a2da-d866bae0c909",
   "metadata": {},
   "outputs": [],
   "source": [
    "from sklearn.model_selection import train_test_split,cross_val_score,cross_val_predict,GridSearchCV\n",
    "from sklearn.metrics import mean_squared_error,r2_score\n",
    "import sklearn\n",
    "from sklearn.neighbors import KNeighborsRegressor"
   ]
  },
  {
   "cell_type": "code",
   "execution_count": 25,
   "id": "aac49784-64d5-48e1-9156-ae64262c8dd2",
   "metadata": {},
   "outputs": [],
   "source": [
    "X_train,X_test,y_train,y_test=train_test_split(X,y,test_size=0.20,random_state=42)"
   ]
  },
  {
   "cell_type": "code",
   "execution_count": null,
   "id": "c17044d3-b905-40c2-8e96-b0f7fcd857c2",
   "metadata": {},
   "outputs": [],
   "source": []
  },
  {
   "cell_type": "code",
   "execution_count": 43,
   "id": "ac65a342-c089-463e-a144-76b287012f0e",
   "metadata": {},
   "outputs": [],
   "source": [
    "knn_model=KNeighborsRegressor()"
   ]
  },
  {
   "cell_type": "code",
   "execution_count": 44,
   "id": "058ecec4-55b1-49ce-a6ea-a025400ca224",
   "metadata": {},
   "outputs": [
    {
     "data": {
      "text/plain": [
       "KNeighborsRegressor()"
      ]
     },
     "execution_count": 44,
     "metadata": {},
     "output_type": "execute_result"
    }
   ],
   "source": [
    "knn_model"
   ]
  },
  {
   "cell_type": "code",
   "execution_count": 46,
   "id": "a9fed74f-7ea1-4ca1-a667-6d250d548471",
   "metadata": {},
   "outputs": [],
   "source": [
    "model=knn_model.fit(X_train,y_train)"
   ]
  },
  {
   "cell_type": "code",
   "execution_count": 47,
   "id": "7103301f-5b1f-4bb2-8089-a672083bb18e",
   "metadata": {},
   "outputs": [
    {
     "data": {
      "text/plain": [
       "KNeighborsRegressor()"
      ]
     },
     "execution_count": 47,
     "metadata": {},
     "output_type": "execute_result"
    }
   ],
   "source": [
    "model"
   ]
  },
  {
   "cell_type": "code",
   "execution_count": null,
   "id": "446e3724-3978-438a-8d9e-e32892becb04",
   "metadata": {},
   "outputs": [],
   "source": []
  },
  {
   "cell_type": "code",
   "execution_count": 50,
   "id": "a08d5d86-c192-49bf-a6ec-8619884a2c77",
   "metadata": {},
   "outputs": [],
   "source": [
    "y_predict=model.predict(X_test)"
   ]
  },
  {
   "cell_type": "code",
   "execution_count": 51,
   "id": "0001b724-8242-423d-baaf-362ebdffceab",
   "metadata": {},
   "outputs": [
    {
     "data": {
      "text/plain": [
       "array([[16.92],\n",
       "       [20.98],\n",
       "       [23.42],\n",
       "       [ 7.38],\n",
       "       [19.72],\n",
       "       [14.3 ],\n",
       "       [22.12],\n",
       "       [ 9.12],\n",
       "       [12.38],\n",
       "       [16.18],\n",
       "       [ 9.26],\n",
       "       [ 9.64],\n",
       "       [15.82],\n",
       "       [ 5.98],\n",
       "       [10.96],\n",
       "       [13.62],\n",
       "       [ 7.14],\n",
       "       [15.8 ],\n",
       "       [10.92],\n",
       "       [20.  ],\n",
       "       [18.28],\n",
       "       [12.44],\n",
       "       [ 9.76],\n",
       "       [24.32],\n",
       "       [ 9.74],\n",
       "       [ 9.  ],\n",
       "       [21.52],\n",
       "       [12.3 ],\n",
       "       [10.42],\n",
       "       [ 5.98],\n",
       "       [12.58],\n",
       "       [10.6 ],\n",
       "       [20.52],\n",
       "       [ 8.62],\n",
       "       [13.78],\n",
       "       [20.78],\n",
       "       [10.36],\n",
       "       [25.14],\n",
       "       [12.12],\n",
       "       [ 6.94]])"
      ]
     },
     "execution_count": 51,
     "metadata": {},
     "output_type": "execute_result"
    }
   ],
   "source": [
    "y_predict"
   ]
  },
  {
   "cell_type": "code",
   "execution_count": null,
   "id": "eca6081a-6544-4eaf-a06a-25fc8b6bcd16",
   "metadata": {},
   "outputs": [],
   "source": []
  },
  {
   "cell_type": "code",
   "execution_count": 55,
   "id": "91412d31-4279-49cf-afdd-a4243f733c1c",
   "metadata": {},
   "outputs": [
    {
     "data": {
      "text/plain": [
       "1.679624958137977"
      ]
     },
     "execution_count": 55,
     "metadata": {},
     "output_type": "execute_result"
    }
   ],
   "source": [
    "np.sqrt(mean_squared_error(y_test,y_predict))"
   ]
  },
  {
   "cell_type": "code",
   "execution_count": 57,
   "id": "82822394-e98b-4c41-bdec-1c95f852b276",
   "metadata": {},
   "outputs": [
    {
     "data": {
      "text/plain": [
       "1.1827901335401814"
      ]
     },
     "execution_count": 57,
     "metadata": {},
     "output_type": "execute_result"
    }
   ],
   "source": [
    "np.sqrt(mean_squared_error(y_train,model.predict(X_train)))"
   ]
  },
  {
   "cell_type": "code",
   "execution_count": null,
   "id": "b677c801-f062-4d37-9f9a-35985802978c",
   "metadata": {},
   "outputs": [],
   "source": []
  },
  {
   "cell_type": "code",
   "execution_count": 60,
   "id": "d0ad3f27-6742-4c72-803a-16db65c7cd9c",
   "metadata": {
    "collapsed": true,
    "jupyter": {
     "outputs_hidden": true
    },
    "tags": []
   },
   "outputs": [
    {
     "name": "stdout",
     "output_type": "stream",
     "text": [
      "k değeri 1 hata 0.0\n",
      "k değeri 2 hata 0.7444796840747234\n",
      "k değeri 3 hata 1.0000624980469972\n",
      "k değeri 4 hata 1.1266498319131815\n",
      "k değeri 5 hata 1.1827901335401814\n",
      "k değeri 6 hata 1.2513867307910855\n",
      "k değeri 7 hata 1.2911917055217494\n",
      "k değeri 8 hata 1.3819366929919403\n",
      "k değeri 9 hata 1.4669415251711995\n",
      "k değeri 10 hata 1.5536326383672556\n",
      "k değeri 11 hata 1.644533896135069\n",
      "k değeri 12 hata 1.737711442969683\n",
      "k değeri 13 hata 1.7875847726825789\n",
      "k değeri 14 hata 1.8606560177331357\n",
      "k değeri 15 hata 1.9144717867396799\n",
      "k değeri 16 hata 1.9826774234920312\n",
      "k değeri 17 hata 2.0435015999326587\n",
      "k değeri 18 hata 2.067108207760927\n",
      "k değeri 19 hata 2.108519192607828\n",
      "k değeri 20 hata 2.1636187135214002\n",
      "k değeri 21 hata 2.223391893842703\n",
      "k değeri 22 hata 2.2744015707797267\n",
      "k değeri 23 hata 2.33823589853596\n",
      "k değeri 24 hata 2.384911336576967\n",
      "k değeri 25 hata 2.4297745780215907\n",
      "k değeri 26 hata 2.477305497831424\n",
      "k değeri 27 hata 2.5047017344313973\n",
      "k değeri 28 hata 2.516481925603233\n",
      "k değeri 29 hata 2.563554965402945\n",
      "k değeri 30 hata 2.5971409627811033\n",
      "k değeri 31 hata 2.621791657099437\n",
      "k değeri 32 hata 2.672492732866932\n",
      "k değeri 33 hata 2.7017109223071034\n",
      "k değeri 34 hata 2.73522000413509\n",
      "k değeri 35 hata 2.7633358002417947\n",
      "k değeri 36 hata 2.78786274317236\n",
      "k değeri 37 hata 2.8181862127880883\n",
      "k değeri 38 hata 2.841254997387608\n",
      "k değeri 39 hata 2.8626052960889634\n",
      "k değeri 40 hata 2.882848045173817\n",
      "k değeri 41 hata 2.9136898153842052\n",
      "k değeri 42 hata 2.9391914124971605\n",
      "k değeri 43 hata 2.964627826844986\n",
      "k değeri 44 hata 2.984614992405647\n",
      "k değeri 45 hata 3.0075775032859258\n",
      "k değeri 46 hata 3.039471212117515\n",
      "k değeri 47 hata 3.062848958324911\n",
      "k değeri 48 hata 3.085728403605212\n",
      "k değeri 49 hata 3.0982857575711953\n",
      "k değeri 50 hata 3.1122318318210165\n",
      "k değeri 51 hata 3.1304030300468852\n",
      "k değeri 52 hata 3.1493052367914816\n",
      "k değeri 53 hata 3.1696873887778634\n",
      "k değeri 54 hata 3.1872004317391447\n",
      "k değeri 55 hata 3.204898813528857\n",
      "k değeri 56 hata 3.223663836378491\n",
      "k değeri 57 hata 3.2444277229760052\n",
      "k değeri 58 hata 3.262740345974485\n",
      "k değeri 59 hata 3.279640208185201\n",
      "k değeri 60 hata 3.290339091462391\n",
      "k değeri 61 hata 3.305601388172797\n",
      "k değeri 62 hata 3.316351468256065\n",
      "k değeri 63 hata 3.3358451042934756\n",
      "k değeri 64 hata 3.3479115663468626\n",
      "k değeri 65 hata 3.364269059063967\n",
      "k değeri 66 hata 3.3802595292658877\n",
      "k değeri 67 hata 3.3932840683048013\n",
      "k değeri 68 hata 3.407821849320201\n",
      "k değeri 69 hata 3.415237671259019\n",
      "k değeri 70 hata 3.422631338694287\n",
      "k değeri 71 hata 3.42887159060299\n",
      "k değeri 72 hata 3.4448600552210924\n",
      "k değeri 73 hata 3.458228231470309\n",
      "k değeri 74 hata 3.4776528241688003\n",
      "k değeri 75 hata 3.489084337059096\n",
      "k değeri 76 hata 3.5093778867867744\n",
      "k değeri 77 hata 3.5259851803176754\n",
      "k değeri 78 hata 3.536813185894401\n",
      "k değeri 79 hata 3.54041408113329\n",
      "k değeri 80 hata 3.5548640821525264\n",
      "k değeri 81 hata 3.5660648828992723\n",
      "k değeri 82 hata 3.5810339671482763\n",
      "k değeri 83 hata 3.598371691778971\n",
      "k değeri 84 hata 3.6089121184033903\n",
      "k değeri 85 hata 3.6197860940644007\n",
      "k değeri 86 hata 3.625991666777036\n",
      "k değeri 87 hata 3.640129802338134\n",
      "k değeri 88 hata 3.657130422402132\n",
      "k değeri 89 hata 3.669997599119203\n",
      "k değeri 90 hata 3.6813639038950274\n",
      "k değeri 91 hata 3.6926783341083653\n",
      "k değeri 92 hata 3.7064259608067003\n",
      "k değeri 93 hata 3.7250773309445453\n",
      "k değeri 94 hata 3.7482065973416963\n",
      "k değeri 95 hata 3.7597940974373385\n",
      "k değeri 96 hata 3.7748405327423504\n",
      "k değeri 97 hata 3.787769246271941\n",
      "k değeri 98 hata 3.803272570178977\n",
      "k değeri 99 hata 3.821865471944862\n",
      "k değeri 100 hata 3.8372832935554815\n"
     ]
    }
   ],
   "source": [
    "for k in range(100):\n",
    "    k=k+1\n",
    "    k_model=KNeighborsRegressor(n_neighbors=k)\n",
    "    k_model.fit(X_train,y_train)\n",
    "    y_pred=k_model.predict(X_train)\n",
    "    hata=np.sqrt(mean_squared_error(y_train,y_pred))\n",
    "    \n",
    "    print(\"k değeri\",k,\"hata\",hata)"
   ]
  },
  {
   "cell_type": "code",
   "execution_count": null,
   "id": "04df256c-cc1a-4441-9050-70eb26fdbbc5",
   "metadata": {},
   "outputs": [],
   "source": []
  },
  {
   "cell_type": "code",
   "execution_count": 82,
   "id": "10788756-c24f-43f0-bc82-d9339d63da6d",
   "metadata": {},
   "outputs": [],
   "source": [
    "knn=KNeighborsRegressor()\n",
    "knn_neighbors={\"n_neighbors\":np.arange(1,101,1)}"
   ]
  },
  {
   "cell_type": "code",
   "execution_count": 83,
   "id": "5f5179f2-f0db-4433-beb0-517dc46a19f3",
   "metadata": {},
   "outputs": [],
   "source": [
    "knn_cv_model=GridSearchCV(knn,knn_neighbors,cv=10)"
   ]
  },
  {
   "cell_type": "code",
   "execution_count": 85,
   "id": "8a53ba43-afd5-4a66-9dbd-d34de2fc5ec3",
   "metadata": {},
   "outputs": [
    {
     "data": {
      "text/plain": [
       "GridSearchCV(cv=10, estimator=KNeighborsRegressor(),\n",
       "             param_grid={'n_neighbors': array([  1,   2,   3,   4,   5,   6,   7,   8,   9,  10,  11,  12,  13,\n",
       "        14,  15,  16,  17,  18,  19,  20,  21,  22,  23,  24,  25,  26,\n",
       "        27,  28,  29,  30,  31,  32,  33,  34,  35,  36,  37,  38,  39,\n",
       "        40,  41,  42,  43,  44,  45,  46,  47,  48,  49,  50,  51,  52,\n",
       "        53,  54,  55,  56,  57,  58,  59,  60,  61,  62,  63,  64,  65,\n",
       "        66,  67,  68,  69,  70,  71,  72,  73,  74,  75,  76,  77,  78,\n",
       "        79,  80,  81,  82,  83,  84,  85,  86,  87,  88,  89,  90,  91,\n",
       "        92,  93,  94,  95,  96,  97,  98,  99, 100])})"
      ]
     },
     "execution_count": 85,
     "metadata": {},
     "output_type": "execute_result"
    }
   ],
   "source": [
    "knn_cv_model.fit(X_train,y_train)"
   ]
  },
  {
   "cell_type": "code",
   "execution_count": 87,
   "id": "8b51978f-4a8d-4fda-bf17-75754ca74887",
   "metadata": {},
   "outputs": [
    {
     "data": {
      "text/plain": [
       "{'n_neighbors': 5}"
      ]
     },
     "execution_count": 87,
     "metadata": {},
     "output_type": "execute_result"
    }
   ],
   "source": [
    "knn_cv_model.best_params_"
   ]
  },
  {
   "cell_type": "code",
   "execution_count": null,
   "id": "6b38c779-c07e-47c6-92bf-c1aa085377b0",
   "metadata": {},
   "outputs": [],
   "source": []
  },
  {
   "cell_type": "code",
   "execution_count": 88,
   "id": "b1ad73f2-6529-4561-938c-b18fe8bd62cd",
   "metadata": {},
   "outputs": [],
   "source": [
    "###########################################################################################################"
   ]
  },
  {
   "cell_type": "code",
   "execution_count": null,
   "id": "055dcb4d-29d9-4c70-a3e4-8bf8ba9f3e0e",
   "metadata": {},
   "outputs": [],
   "source": []
  },
  {
   "cell_type": "code",
   "execution_count": 1,
   "id": "602f7961-9e0b-46d8-beae-3c46e479d0f7",
   "metadata": {},
   "outputs": [],
   "source": [
    "import seaborn as sns\n"
   ]
  },
  {
   "cell_type": "code",
   "execution_count": 2,
   "id": "50288714-7781-409d-a4be-b8d65aab30fa",
   "metadata": {},
   "outputs": [],
   "source": [
    "df=sns.load_dataset(\"tips\")"
   ]
  },
  {
   "cell_type": "code",
   "execution_count": 3,
   "id": "9428e398-c2b4-4eb1-b09c-f921eb648402",
   "metadata": {},
   "outputs": [
    {
     "data": {
      "text/html": [
       "<div>\n",
       "<style scoped>\n",
       "    .dataframe tbody tr th:only-of-type {\n",
       "        vertical-align: middle;\n",
       "    }\n",
       "\n",
       "    .dataframe tbody tr th {\n",
       "        vertical-align: top;\n",
       "    }\n",
       "\n",
       "    .dataframe thead th {\n",
       "        text-align: right;\n",
       "    }\n",
       "</style>\n",
       "<table border=\"1\" class=\"dataframe\">\n",
       "  <thead>\n",
       "    <tr style=\"text-align: right;\">\n",
       "      <th></th>\n",
       "      <th>total_bill</th>\n",
       "      <th>tip</th>\n",
       "      <th>sex</th>\n",
       "      <th>smoker</th>\n",
       "      <th>day</th>\n",
       "      <th>time</th>\n",
       "      <th>size</th>\n",
       "    </tr>\n",
       "  </thead>\n",
       "  <tbody>\n",
       "    <tr>\n",
       "      <th>0</th>\n",
       "      <td>16.99</td>\n",
       "      <td>1.01</td>\n",
       "      <td>Female</td>\n",
       "      <td>No</td>\n",
       "      <td>Sun</td>\n",
       "      <td>Dinner</td>\n",
       "      <td>2</td>\n",
       "    </tr>\n",
       "    <tr>\n",
       "      <th>1</th>\n",
       "      <td>10.34</td>\n",
       "      <td>1.66</td>\n",
       "      <td>Male</td>\n",
       "      <td>No</td>\n",
       "      <td>Sun</td>\n",
       "      <td>Dinner</td>\n",
       "      <td>3</td>\n",
       "    </tr>\n",
       "    <tr>\n",
       "      <th>2</th>\n",
       "      <td>21.01</td>\n",
       "      <td>3.50</td>\n",
       "      <td>Male</td>\n",
       "      <td>No</td>\n",
       "      <td>Sun</td>\n",
       "      <td>Dinner</td>\n",
       "      <td>3</td>\n",
       "    </tr>\n",
       "    <tr>\n",
       "      <th>3</th>\n",
       "      <td>23.68</td>\n",
       "      <td>3.31</td>\n",
       "      <td>Male</td>\n",
       "      <td>No</td>\n",
       "      <td>Sun</td>\n",
       "      <td>Dinner</td>\n",
       "      <td>2</td>\n",
       "    </tr>\n",
       "    <tr>\n",
       "      <th>4</th>\n",
       "      <td>24.59</td>\n",
       "      <td>3.61</td>\n",
       "      <td>Female</td>\n",
       "      <td>No</td>\n",
       "      <td>Sun</td>\n",
       "      <td>Dinner</td>\n",
       "      <td>4</td>\n",
       "    </tr>\n",
       "    <tr>\n",
       "      <th>...</th>\n",
       "      <td>...</td>\n",
       "      <td>...</td>\n",
       "      <td>...</td>\n",
       "      <td>...</td>\n",
       "      <td>...</td>\n",
       "      <td>...</td>\n",
       "      <td>...</td>\n",
       "    </tr>\n",
       "    <tr>\n",
       "      <th>239</th>\n",
       "      <td>29.03</td>\n",
       "      <td>5.92</td>\n",
       "      <td>Male</td>\n",
       "      <td>No</td>\n",
       "      <td>Sat</td>\n",
       "      <td>Dinner</td>\n",
       "      <td>3</td>\n",
       "    </tr>\n",
       "    <tr>\n",
       "      <th>240</th>\n",
       "      <td>27.18</td>\n",
       "      <td>2.00</td>\n",
       "      <td>Female</td>\n",
       "      <td>Yes</td>\n",
       "      <td>Sat</td>\n",
       "      <td>Dinner</td>\n",
       "      <td>2</td>\n",
       "    </tr>\n",
       "    <tr>\n",
       "      <th>241</th>\n",
       "      <td>22.67</td>\n",
       "      <td>2.00</td>\n",
       "      <td>Male</td>\n",
       "      <td>Yes</td>\n",
       "      <td>Sat</td>\n",
       "      <td>Dinner</td>\n",
       "      <td>2</td>\n",
       "    </tr>\n",
       "    <tr>\n",
       "      <th>242</th>\n",
       "      <td>17.82</td>\n",
       "      <td>1.75</td>\n",
       "      <td>Male</td>\n",
       "      <td>No</td>\n",
       "      <td>Sat</td>\n",
       "      <td>Dinner</td>\n",
       "      <td>2</td>\n",
       "    </tr>\n",
       "    <tr>\n",
       "      <th>243</th>\n",
       "      <td>18.78</td>\n",
       "      <td>3.00</td>\n",
       "      <td>Female</td>\n",
       "      <td>No</td>\n",
       "      <td>Thur</td>\n",
       "      <td>Dinner</td>\n",
       "      <td>2</td>\n",
       "    </tr>\n",
       "  </tbody>\n",
       "</table>\n",
       "<p>244 rows × 7 columns</p>\n",
       "</div>"
      ],
      "text/plain": [
       "     total_bill   tip     sex smoker   day    time  size\n",
       "0         16.99  1.01  Female     No   Sun  Dinner     2\n",
       "1         10.34  1.66    Male     No   Sun  Dinner     3\n",
       "2         21.01  3.50    Male     No   Sun  Dinner     3\n",
       "3         23.68  3.31    Male     No   Sun  Dinner     2\n",
       "4         24.59  3.61  Female     No   Sun  Dinner     4\n",
       "..          ...   ...     ...    ...   ...     ...   ...\n",
       "239       29.03  5.92    Male     No   Sat  Dinner     3\n",
       "240       27.18  2.00  Female    Yes   Sat  Dinner     2\n",
       "241       22.67  2.00    Male    Yes   Sat  Dinner     2\n",
       "242       17.82  1.75    Male     No   Sat  Dinner     2\n",
       "243       18.78  3.00  Female     No  Thur  Dinner     2\n",
       "\n",
       "[244 rows x 7 columns]"
      ]
     },
     "execution_count": 3,
     "metadata": {},
     "output_type": "execute_result"
    }
   ],
   "source": [
    "df"
   ]
  },
  {
   "cell_type": "code",
   "execution_count": null,
   "id": "3a714006-0c81-457b-bee5-ab311c426048",
   "metadata": {},
   "outputs": [],
   "source": []
  },
  {
   "cell_type": "code",
   "execution_count": 4,
   "id": "866afb6c-dc01-45f7-8907-d6dee5e1e92e",
   "metadata": {},
   "outputs": [],
   "source": [
    "df=df.replace(to_replace=\"Male\",value=0)\n",
    "df=df.replace(to_replace=\"Female\",value=1)"
   ]
  },
  {
   "cell_type": "code",
   "execution_count": 5,
   "id": "d90f67a0-2101-4379-a4ba-1736f690e433",
   "metadata": {},
   "outputs": [],
   "source": [
    "df[\"smoker\"]=df[\"smoker\"].replace(to_replace=\"Yes\",value=1)\n",
    "df[\"smoker\"]=df[\"smoker\"].replace(to_replace=\"No\",value=0)"
   ]
  },
  {
   "cell_type": "code",
   "execution_count": 6,
   "id": "d0025fbb-6925-486b-ab57-e6f7267ee371",
   "metadata": {},
   "outputs": [
    {
     "data": {
      "text/plain": [
       "total_bill    0\n",
       "tip           0\n",
       "sex           0\n",
       "smoker        0\n",
       "day           0\n",
       "time          0\n",
       "size          0\n",
       "dtype: int64"
      ]
     },
     "execution_count": 6,
     "metadata": {},
     "output_type": "execute_result"
    }
   ],
   "source": [
    "df.isna().sum()"
   ]
  },
  {
   "cell_type": "code",
   "execution_count": 7,
   "id": "08bc2326-13c7-4b23-a57b-e6e800da8681",
   "metadata": {},
   "outputs": [
    {
     "data": {
      "text/html": [
       "<div>\n",
       "<style scoped>\n",
       "    .dataframe tbody tr th:only-of-type {\n",
       "        vertical-align: middle;\n",
       "    }\n",
       "\n",
       "    .dataframe tbody tr th {\n",
       "        vertical-align: top;\n",
       "    }\n",
       "\n",
       "    .dataframe thead th {\n",
       "        text-align: right;\n",
       "    }\n",
       "</style>\n",
       "<table border=\"1\" class=\"dataframe\">\n",
       "  <thead>\n",
       "    <tr style=\"text-align: right;\">\n",
       "      <th></th>\n",
       "      <th>total_bill</th>\n",
       "      <th>tip</th>\n",
       "      <th>sex</th>\n",
       "      <th>smoker</th>\n",
       "      <th>day</th>\n",
       "      <th>time</th>\n",
       "      <th>size</th>\n",
       "    </tr>\n",
       "  </thead>\n",
       "  <tbody>\n",
       "    <tr>\n",
       "      <th>0</th>\n",
       "      <td>16.99</td>\n",
       "      <td>1.01</td>\n",
       "      <td>1</td>\n",
       "      <td>0</td>\n",
       "      <td>Sun</td>\n",
       "      <td>Dinner</td>\n",
       "      <td>2</td>\n",
       "    </tr>\n",
       "    <tr>\n",
       "      <th>1</th>\n",
       "      <td>10.34</td>\n",
       "      <td>1.66</td>\n",
       "      <td>0</td>\n",
       "      <td>0</td>\n",
       "      <td>Sun</td>\n",
       "      <td>Dinner</td>\n",
       "      <td>3</td>\n",
       "    </tr>\n",
       "    <tr>\n",
       "      <th>2</th>\n",
       "      <td>21.01</td>\n",
       "      <td>3.50</td>\n",
       "      <td>0</td>\n",
       "      <td>0</td>\n",
       "      <td>Sun</td>\n",
       "      <td>Dinner</td>\n",
       "      <td>3</td>\n",
       "    </tr>\n",
       "    <tr>\n",
       "      <th>3</th>\n",
       "      <td>23.68</td>\n",
       "      <td>3.31</td>\n",
       "      <td>0</td>\n",
       "      <td>0</td>\n",
       "      <td>Sun</td>\n",
       "      <td>Dinner</td>\n",
       "      <td>2</td>\n",
       "    </tr>\n",
       "    <tr>\n",
       "      <th>4</th>\n",
       "      <td>24.59</td>\n",
       "      <td>3.61</td>\n",
       "      <td>1</td>\n",
       "      <td>0</td>\n",
       "      <td>Sun</td>\n",
       "      <td>Dinner</td>\n",
       "      <td>4</td>\n",
       "    </tr>\n",
       "    <tr>\n",
       "      <th>...</th>\n",
       "      <td>...</td>\n",
       "      <td>...</td>\n",
       "      <td>...</td>\n",
       "      <td>...</td>\n",
       "      <td>...</td>\n",
       "      <td>...</td>\n",
       "      <td>...</td>\n",
       "    </tr>\n",
       "    <tr>\n",
       "      <th>239</th>\n",
       "      <td>29.03</td>\n",
       "      <td>5.92</td>\n",
       "      <td>0</td>\n",
       "      <td>0</td>\n",
       "      <td>Sat</td>\n",
       "      <td>Dinner</td>\n",
       "      <td>3</td>\n",
       "    </tr>\n",
       "    <tr>\n",
       "      <th>240</th>\n",
       "      <td>27.18</td>\n",
       "      <td>2.00</td>\n",
       "      <td>1</td>\n",
       "      <td>1</td>\n",
       "      <td>Sat</td>\n",
       "      <td>Dinner</td>\n",
       "      <td>2</td>\n",
       "    </tr>\n",
       "    <tr>\n",
       "      <th>241</th>\n",
       "      <td>22.67</td>\n",
       "      <td>2.00</td>\n",
       "      <td>0</td>\n",
       "      <td>1</td>\n",
       "      <td>Sat</td>\n",
       "      <td>Dinner</td>\n",
       "      <td>2</td>\n",
       "    </tr>\n",
       "    <tr>\n",
       "      <th>242</th>\n",
       "      <td>17.82</td>\n",
       "      <td>1.75</td>\n",
       "      <td>0</td>\n",
       "      <td>0</td>\n",
       "      <td>Sat</td>\n",
       "      <td>Dinner</td>\n",
       "      <td>2</td>\n",
       "    </tr>\n",
       "    <tr>\n",
       "      <th>243</th>\n",
       "      <td>18.78</td>\n",
       "      <td>3.00</td>\n",
       "      <td>1</td>\n",
       "      <td>0</td>\n",
       "      <td>Thur</td>\n",
       "      <td>Dinner</td>\n",
       "      <td>2</td>\n",
       "    </tr>\n",
       "  </tbody>\n",
       "</table>\n",
       "<p>244 rows × 7 columns</p>\n",
       "</div>"
      ],
      "text/plain": [
       "     total_bill   tip sex smoker   day    time  size\n",
       "0         16.99  1.01   1      0   Sun  Dinner     2\n",
       "1         10.34  1.66   0      0   Sun  Dinner     3\n",
       "2         21.01  3.50   0      0   Sun  Dinner     3\n",
       "3         23.68  3.31   0      0   Sun  Dinner     2\n",
       "4         24.59  3.61   1      0   Sun  Dinner     4\n",
       "..          ...   ...  ..    ...   ...     ...   ...\n",
       "239       29.03  5.92   0      0   Sat  Dinner     3\n",
       "240       27.18  2.00   1      1   Sat  Dinner     2\n",
       "241       22.67  2.00   0      1   Sat  Dinner     2\n",
       "242       17.82  1.75   0      0   Sat  Dinner     2\n",
       "243       18.78  3.00   1      0  Thur  Dinner     2\n",
       "\n",
       "[244 rows x 7 columns]"
      ]
     },
     "execution_count": 7,
     "metadata": {},
     "output_type": "execute_result"
    }
   ],
   "source": [
    "df"
   ]
  },
  {
   "cell_type": "code",
   "execution_count": 10,
   "id": "cd6f5df8-f63b-4605-9af5-a013cc687c89",
   "metadata": {},
   "outputs": [
    {
     "data": {
      "text/plain": [
       "['Dinner', 'Dinner', 'Dinner', 'Dinner', 'Dinner', ..., 'Dinner', 'Dinner', 'Dinner', 'Dinner', 'Dinner']\n",
       "Length: 244\n",
       "Categories (2, object): ['Lunch', 'Dinner']"
      ]
     },
     "execution_count": 10,
     "metadata": {},
     "output_type": "execute_result"
    }
   ],
   "source": [
    "df.time.values"
   ]
  },
  {
   "cell_type": "code",
   "execution_count": 11,
   "id": "9c230312-920b-440e-ba54-30b6c8e4eb7c",
   "metadata": {},
   "outputs": [],
   "source": [
    "df[\"time\"]=df[\"time\"].replace(to_replace=[\"Lunch\",\"Dinner\"],value=[0,1])"
   ]
  },
  {
   "cell_type": "code",
   "execution_count": 12,
   "id": "4e991587-f203-4482-993e-8e39fba07233",
   "metadata": {},
   "outputs": [
    {
     "data": {
      "text/html": [
       "<div>\n",
       "<style scoped>\n",
       "    .dataframe tbody tr th:only-of-type {\n",
       "        vertical-align: middle;\n",
       "    }\n",
       "\n",
       "    .dataframe tbody tr th {\n",
       "        vertical-align: top;\n",
       "    }\n",
       "\n",
       "    .dataframe thead th {\n",
       "        text-align: right;\n",
       "    }\n",
       "</style>\n",
       "<table border=\"1\" class=\"dataframe\">\n",
       "  <thead>\n",
       "    <tr style=\"text-align: right;\">\n",
       "      <th></th>\n",
       "      <th>total_bill</th>\n",
       "      <th>tip</th>\n",
       "      <th>sex</th>\n",
       "      <th>smoker</th>\n",
       "      <th>day</th>\n",
       "      <th>time</th>\n",
       "      <th>size</th>\n",
       "    </tr>\n",
       "  </thead>\n",
       "  <tbody>\n",
       "    <tr>\n",
       "      <th>0</th>\n",
       "      <td>16.99</td>\n",
       "      <td>1.01</td>\n",
       "      <td>1</td>\n",
       "      <td>0</td>\n",
       "      <td>Sun</td>\n",
       "      <td>1</td>\n",
       "      <td>2</td>\n",
       "    </tr>\n",
       "    <tr>\n",
       "      <th>1</th>\n",
       "      <td>10.34</td>\n",
       "      <td>1.66</td>\n",
       "      <td>0</td>\n",
       "      <td>0</td>\n",
       "      <td>Sun</td>\n",
       "      <td>1</td>\n",
       "      <td>3</td>\n",
       "    </tr>\n",
       "    <tr>\n",
       "      <th>2</th>\n",
       "      <td>21.01</td>\n",
       "      <td>3.50</td>\n",
       "      <td>0</td>\n",
       "      <td>0</td>\n",
       "      <td>Sun</td>\n",
       "      <td>1</td>\n",
       "      <td>3</td>\n",
       "    </tr>\n",
       "    <tr>\n",
       "      <th>3</th>\n",
       "      <td>23.68</td>\n",
       "      <td>3.31</td>\n",
       "      <td>0</td>\n",
       "      <td>0</td>\n",
       "      <td>Sun</td>\n",
       "      <td>1</td>\n",
       "      <td>2</td>\n",
       "    </tr>\n",
       "    <tr>\n",
       "      <th>4</th>\n",
       "      <td>24.59</td>\n",
       "      <td>3.61</td>\n",
       "      <td>1</td>\n",
       "      <td>0</td>\n",
       "      <td>Sun</td>\n",
       "      <td>1</td>\n",
       "      <td>4</td>\n",
       "    </tr>\n",
       "    <tr>\n",
       "      <th>...</th>\n",
       "      <td>...</td>\n",
       "      <td>...</td>\n",
       "      <td>...</td>\n",
       "      <td>...</td>\n",
       "      <td>...</td>\n",
       "      <td>...</td>\n",
       "      <td>...</td>\n",
       "    </tr>\n",
       "    <tr>\n",
       "      <th>239</th>\n",
       "      <td>29.03</td>\n",
       "      <td>5.92</td>\n",
       "      <td>0</td>\n",
       "      <td>0</td>\n",
       "      <td>Sat</td>\n",
       "      <td>1</td>\n",
       "      <td>3</td>\n",
       "    </tr>\n",
       "    <tr>\n",
       "      <th>240</th>\n",
       "      <td>27.18</td>\n",
       "      <td>2.00</td>\n",
       "      <td>1</td>\n",
       "      <td>1</td>\n",
       "      <td>Sat</td>\n",
       "      <td>1</td>\n",
       "      <td>2</td>\n",
       "    </tr>\n",
       "    <tr>\n",
       "      <th>241</th>\n",
       "      <td>22.67</td>\n",
       "      <td>2.00</td>\n",
       "      <td>0</td>\n",
       "      <td>1</td>\n",
       "      <td>Sat</td>\n",
       "      <td>1</td>\n",
       "      <td>2</td>\n",
       "    </tr>\n",
       "    <tr>\n",
       "      <th>242</th>\n",
       "      <td>17.82</td>\n",
       "      <td>1.75</td>\n",
       "      <td>0</td>\n",
       "      <td>0</td>\n",
       "      <td>Sat</td>\n",
       "      <td>1</td>\n",
       "      <td>2</td>\n",
       "    </tr>\n",
       "    <tr>\n",
       "      <th>243</th>\n",
       "      <td>18.78</td>\n",
       "      <td>3.00</td>\n",
       "      <td>1</td>\n",
       "      <td>0</td>\n",
       "      <td>Thur</td>\n",
       "      <td>1</td>\n",
       "      <td>2</td>\n",
       "    </tr>\n",
       "  </tbody>\n",
       "</table>\n",
       "<p>244 rows × 7 columns</p>\n",
       "</div>"
      ],
      "text/plain": [
       "     total_bill   tip sex smoker   day  time  size\n",
       "0         16.99  1.01   1      0   Sun     1     2\n",
       "1         10.34  1.66   0      0   Sun     1     3\n",
       "2         21.01  3.50   0      0   Sun     1     3\n",
       "3         23.68  3.31   0      0   Sun     1     2\n",
       "4         24.59  3.61   1      0   Sun     1     4\n",
       "..          ...   ...  ..    ...   ...   ...   ...\n",
       "239       29.03  5.92   0      0   Sat     1     3\n",
       "240       27.18  2.00   1      1   Sat     1     2\n",
       "241       22.67  2.00   0      1   Sat     1     2\n",
       "242       17.82  1.75   0      0   Sat     1     2\n",
       "243       18.78  3.00   1      0  Thur     1     2\n",
       "\n",
       "[244 rows x 7 columns]"
      ]
     },
     "execution_count": 12,
     "metadata": {},
     "output_type": "execute_result"
    }
   ],
   "source": [
    "df"
   ]
  },
  {
   "cell_type": "code",
   "execution_count": 13,
   "id": "da0146fc-6f5d-4d03-aa5f-08d288c9b9c4",
   "metadata": {},
   "outputs": [
    {
     "data": {
      "text/plain": [
       "['Sun', 'Sun', 'Sun', 'Sun', 'Sun', ..., 'Sat', 'Sat', 'Sat', 'Sat', 'Thur']\n",
       "Length: 244\n",
       "Categories (4, object): ['Thur', 'Fri', 'Sat', 'Sun']"
      ]
     },
     "execution_count": 13,
     "metadata": {},
     "output_type": "execute_result"
    }
   ],
   "source": [
    "df.day.values"
   ]
  },
  {
   "cell_type": "code",
   "execution_count": 14,
   "id": "5b604383-d1c3-4539-b451-1872da03ff3d",
   "metadata": {},
   "outputs": [],
   "source": [
    "df[\"day\"]=df[\"day\"].replace(to_replace=[\"Thur\",\"Fri\",\"Sat\",\"Sun\"],value=[4,5,6,7])"
   ]
  },
  {
   "cell_type": "code",
   "execution_count": 15,
   "id": "3109cb44-19d9-4c7e-be60-36ffc238b34c",
   "metadata": {},
   "outputs": [
    {
     "data": {
      "text/html": [
       "<div>\n",
       "<style scoped>\n",
       "    .dataframe tbody tr th:only-of-type {\n",
       "        vertical-align: middle;\n",
       "    }\n",
       "\n",
       "    .dataframe tbody tr th {\n",
       "        vertical-align: top;\n",
       "    }\n",
       "\n",
       "    .dataframe thead th {\n",
       "        text-align: right;\n",
       "    }\n",
       "</style>\n",
       "<table border=\"1\" class=\"dataframe\">\n",
       "  <thead>\n",
       "    <tr style=\"text-align: right;\">\n",
       "      <th></th>\n",
       "      <th>total_bill</th>\n",
       "      <th>tip</th>\n",
       "      <th>sex</th>\n",
       "      <th>smoker</th>\n",
       "      <th>day</th>\n",
       "      <th>time</th>\n",
       "      <th>size</th>\n",
       "    </tr>\n",
       "  </thead>\n",
       "  <tbody>\n",
       "    <tr>\n",
       "      <th>0</th>\n",
       "      <td>16.99</td>\n",
       "      <td>1.01</td>\n",
       "      <td>1</td>\n",
       "      <td>0</td>\n",
       "      <td>7</td>\n",
       "      <td>1</td>\n",
       "      <td>2</td>\n",
       "    </tr>\n",
       "    <tr>\n",
       "      <th>1</th>\n",
       "      <td>10.34</td>\n",
       "      <td>1.66</td>\n",
       "      <td>0</td>\n",
       "      <td>0</td>\n",
       "      <td>7</td>\n",
       "      <td>1</td>\n",
       "      <td>3</td>\n",
       "    </tr>\n",
       "    <tr>\n",
       "      <th>2</th>\n",
       "      <td>21.01</td>\n",
       "      <td>3.50</td>\n",
       "      <td>0</td>\n",
       "      <td>0</td>\n",
       "      <td>7</td>\n",
       "      <td>1</td>\n",
       "      <td>3</td>\n",
       "    </tr>\n",
       "    <tr>\n",
       "      <th>3</th>\n",
       "      <td>23.68</td>\n",
       "      <td>3.31</td>\n",
       "      <td>0</td>\n",
       "      <td>0</td>\n",
       "      <td>7</td>\n",
       "      <td>1</td>\n",
       "      <td>2</td>\n",
       "    </tr>\n",
       "    <tr>\n",
       "      <th>4</th>\n",
       "      <td>24.59</td>\n",
       "      <td>3.61</td>\n",
       "      <td>1</td>\n",
       "      <td>0</td>\n",
       "      <td>7</td>\n",
       "      <td>1</td>\n",
       "      <td>4</td>\n",
       "    </tr>\n",
       "    <tr>\n",
       "      <th>...</th>\n",
       "      <td>...</td>\n",
       "      <td>...</td>\n",
       "      <td>...</td>\n",
       "      <td>...</td>\n",
       "      <td>...</td>\n",
       "      <td>...</td>\n",
       "      <td>...</td>\n",
       "    </tr>\n",
       "    <tr>\n",
       "      <th>239</th>\n",
       "      <td>29.03</td>\n",
       "      <td>5.92</td>\n",
       "      <td>0</td>\n",
       "      <td>0</td>\n",
       "      <td>6</td>\n",
       "      <td>1</td>\n",
       "      <td>3</td>\n",
       "    </tr>\n",
       "    <tr>\n",
       "      <th>240</th>\n",
       "      <td>27.18</td>\n",
       "      <td>2.00</td>\n",
       "      <td>1</td>\n",
       "      <td>1</td>\n",
       "      <td>6</td>\n",
       "      <td>1</td>\n",
       "      <td>2</td>\n",
       "    </tr>\n",
       "    <tr>\n",
       "      <th>241</th>\n",
       "      <td>22.67</td>\n",
       "      <td>2.00</td>\n",
       "      <td>0</td>\n",
       "      <td>1</td>\n",
       "      <td>6</td>\n",
       "      <td>1</td>\n",
       "      <td>2</td>\n",
       "    </tr>\n",
       "    <tr>\n",
       "      <th>242</th>\n",
       "      <td>17.82</td>\n",
       "      <td>1.75</td>\n",
       "      <td>0</td>\n",
       "      <td>0</td>\n",
       "      <td>6</td>\n",
       "      <td>1</td>\n",
       "      <td>2</td>\n",
       "    </tr>\n",
       "    <tr>\n",
       "      <th>243</th>\n",
       "      <td>18.78</td>\n",
       "      <td>3.00</td>\n",
       "      <td>1</td>\n",
       "      <td>0</td>\n",
       "      <td>4</td>\n",
       "      <td>1</td>\n",
       "      <td>2</td>\n",
       "    </tr>\n",
       "  </tbody>\n",
       "</table>\n",
       "<p>244 rows × 7 columns</p>\n",
       "</div>"
      ],
      "text/plain": [
       "     total_bill   tip sex smoker  day  time  size\n",
       "0         16.99  1.01   1      0    7     1     2\n",
       "1         10.34  1.66   0      0    7     1     3\n",
       "2         21.01  3.50   0      0    7     1     3\n",
       "3         23.68  3.31   0      0    7     1     2\n",
       "4         24.59  3.61   1      0    7     1     4\n",
       "..          ...   ...  ..    ...  ...   ...   ...\n",
       "239       29.03  5.92   0      0    6     1     3\n",
       "240       27.18  2.00   1      1    6     1     2\n",
       "241       22.67  2.00   0      1    6     1     2\n",
       "242       17.82  1.75   0      0    6     1     2\n",
       "243       18.78  3.00   1      0    4     1     2\n",
       "\n",
       "[244 rows x 7 columns]"
      ]
     },
     "execution_count": 15,
     "metadata": {},
     "output_type": "execute_result"
    }
   ],
   "source": [
    "df"
   ]
  },
  {
   "cell_type": "code",
   "execution_count": 18,
   "id": "20f63b86-2783-4f82-a9da-9ad604ad8395",
   "metadata": {},
   "outputs": [],
   "source": [
    "df2=df.copy()"
   ]
  },
  {
   "cell_type": "code",
   "execution_count": null,
   "id": "d583bcb1-45e6-4375-a2ed-f92a8d53aae7",
   "metadata": {},
   "outputs": [],
   "source": []
  },
  {
   "cell_type": "code",
   "execution_count": 70,
   "id": "41b0934d-86ca-4e5d-8ecf-b152f75c4a55",
   "metadata": {},
   "outputs": [],
   "source": [
    "A=df2.drop([\"total_bill\"],axis=1)"
   ]
  },
  {
   "cell_type": "code",
   "execution_count": 71,
   "id": "7f9b515e-97c4-4118-af02-b8811761d3be",
   "metadata": {},
   "outputs": [
    {
     "data": {
      "text/html": [
       "<div>\n",
       "<style scoped>\n",
       "    .dataframe tbody tr th:only-of-type {\n",
       "        vertical-align: middle;\n",
       "    }\n",
       "\n",
       "    .dataframe tbody tr th {\n",
       "        vertical-align: top;\n",
       "    }\n",
       "\n",
       "    .dataframe thead th {\n",
       "        text-align: right;\n",
       "    }\n",
       "</style>\n",
       "<table border=\"1\" class=\"dataframe\">\n",
       "  <thead>\n",
       "    <tr style=\"text-align: right;\">\n",
       "      <th></th>\n",
       "      <th>tip</th>\n",
       "      <th>sex</th>\n",
       "      <th>smoker</th>\n",
       "      <th>day</th>\n",
       "      <th>time</th>\n",
       "      <th>size</th>\n",
       "    </tr>\n",
       "  </thead>\n",
       "  <tbody>\n",
       "    <tr>\n",
       "      <th>0</th>\n",
       "      <td>1.01</td>\n",
       "      <td>1</td>\n",
       "      <td>0</td>\n",
       "      <td>7</td>\n",
       "      <td>1</td>\n",
       "      <td>2</td>\n",
       "    </tr>\n",
       "    <tr>\n",
       "      <th>1</th>\n",
       "      <td>1.66</td>\n",
       "      <td>0</td>\n",
       "      <td>0</td>\n",
       "      <td>7</td>\n",
       "      <td>1</td>\n",
       "      <td>3</td>\n",
       "    </tr>\n",
       "    <tr>\n",
       "      <th>2</th>\n",
       "      <td>3.50</td>\n",
       "      <td>0</td>\n",
       "      <td>0</td>\n",
       "      <td>7</td>\n",
       "      <td>1</td>\n",
       "      <td>3</td>\n",
       "    </tr>\n",
       "    <tr>\n",
       "      <th>3</th>\n",
       "      <td>3.31</td>\n",
       "      <td>0</td>\n",
       "      <td>0</td>\n",
       "      <td>7</td>\n",
       "      <td>1</td>\n",
       "      <td>2</td>\n",
       "    </tr>\n",
       "    <tr>\n",
       "      <th>4</th>\n",
       "      <td>3.61</td>\n",
       "      <td>1</td>\n",
       "      <td>0</td>\n",
       "      <td>7</td>\n",
       "      <td>1</td>\n",
       "      <td>4</td>\n",
       "    </tr>\n",
       "  </tbody>\n",
       "</table>\n",
       "</div>"
      ],
      "text/plain": [
       "    tip sex smoker  day  time  size\n",
       "0  1.01   1      0    7     1     2\n",
       "1  1.66   0      0    7     1     3\n",
       "2  3.50   0      0    7     1     3\n",
       "3  3.31   0      0    7     1     2\n",
       "4  3.61   1      0    7     1     4"
      ]
     },
     "execution_count": 71,
     "metadata": {},
     "output_type": "execute_result"
    }
   ],
   "source": [
    "A.head()"
   ]
  },
  {
   "cell_type": "code",
   "execution_count": null,
   "id": "53c8edf9-9f27-461b-87cb-1a96a38381cc",
   "metadata": {},
   "outputs": [],
   "source": []
  },
  {
   "cell_type": "code",
   "execution_count": 72,
   "id": "6caad7fd-5cc2-41d2-a4dd-e698c791c6dc",
   "metadata": {},
   "outputs": [],
   "source": [
    "b=df2[\"total_bill\"]"
   ]
  },
  {
   "cell_type": "code",
   "execution_count": 82,
   "id": "1a886fea-8290-4049-bac2-a8a55526ccc0",
   "metadata": {},
   "outputs": [],
   "source": [
    "A_train,A_test,b_train,b_test=train_test_split(A,b,test_size=0.20,random_state=42)"
   ]
  },
  {
   "cell_type": "code",
   "execution_count": null,
   "id": "85873526-679d-44ae-a60c-a67a793b3437",
   "metadata": {},
   "outputs": [],
   "source": []
  },
  {
   "cell_type": "code",
   "execution_count": 74,
   "id": "848fc381-80c0-42bc-b8fb-12641f4b4b88",
   "metadata": {},
   "outputs": [
    {
     "data": {
      "text/plain": [
       "(195, 6)"
      ]
     },
     "execution_count": 74,
     "metadata": {},
     "output_type": "execute_result"
    }
   ],
   "source": [
    "A_train.shape"
   ]
  },
  {
   "cell_type": "code",
   "execution_count": 75,
   "id": "51dab0ef-c09f-4fbd-a45e-bd66849c77ee",
   "metadata": {},
   "outputs": [
    {
     "data": {
      "text/plain": [
       "(195,)"
      ]
     },
     "execution_count": 75,
     "metadata": {},
     "output_type": "execute_result"
    }
   ],
   "source": [
    "b_train.shape"
   ]
  },
  {
   "cell_type": "code",
   "execution_count": null,
   "id": "dc9ece5d-a5ee-4bf8-a400-9e389188e67d",
   "metadata": {},
   "outputs": [],
   "source": []
  },
  {
   "cell_type": "code",
   "execution_count": 76,
   "id": "28acf767-bb2d-448e-8b21-cf5e1a58e36c",
   "metadata": {},
   "outputs": [],
   "source": [
    "knn_model=KNeighborsRegressor()"
   ]
  },
  {
   "cell_type": "code",
   "execution_count": 80,
   "id": "97fab86b-3ec8-412f-b264-435fbaaa6144",
   "metadata": {},
   "outputs": [],
   "source": [
    "model=knn_model.fit(A_train,b_train)"
   ]
  },
  {
   "cell_type": "code",
   "execution_count": 83,
   "id": "4dea7458-c734-4463-a07e-cdc17e309e02",
   "metadata": {},
   "outputs": [],
   "source": [
    "b_predict=model.predict(A_test)"
   ]
  },
  {
   "cell_type": "code",
   "execution_count": null,
   "id": "8af6c4c7-18d7-4da2-9cbd-9eb824a5eba8",
   "metadata": {},
   "outputs": [],
   "source": []
  },
  {
   "cell_type": "code",
   "execution_count": 86,
   "id": "28627c3f-3e90-4701-9f8c-56d0b2b73571",
   "metadata": {},
   "outputs": [],
   "source": [
    "import numpy as np"
   ]
  },
  {
   "cell_type": "code",
   "execution_count": 87,
   "id": "39f592c9-2615-43dc-b3b1-52aad348e463",
   "metadata": {},
   "outputs": [
    {
     "data": {
      "text/plain": [
       "6.657590168908181"
      ]
     },
     "execution_count": 87,
     "metadata": {},
     "output_type": "execute_result"
    }
   ],
   "source": [
    "np.sqrt(mean_squared_error(b_test,b_predict))"
   ]
  },
  {
   "cell_type": "code",
   "execution_count": null,
   "id": "9bfeeb7b-55fb-4e7e-9323-e125c2aac151",
   "metadata": {},
   "outputs": [],
   "source": []
  },
  {
   "cell_type": "code",
   "execution_count": 89,
   "id": "633d898e-402b-4254-ac11-6bb4abb27c6a",
   "metadata": {},
   "outputs": [
    {
     "data": {
      "text/plain": [
       "5.116737830959217"
      ]
     },
     "execution_count": 89,
     "metadata": {},
     "output_type": "execute_result"
    }
   ],
   "source": [
    "np.sqrt(mean_squared_error(b_train,model.predict(A_train)))"
   ]
  },
  {
   "cell_type": "code",
   "execution_count": null,
   "id": "d9b2bf5e-fd93-40e8-9fb1-02b8e6f2f04f",
   "metadata": {},
   "outputs": [],
   "source": []
  },
  {
   "cell_type": "code",
   "execution_count": 94,
   "id": "8e1b79ba-e476-41eb-881c-943250a58325",
   "metadata": {
    "collapsed": true,
    "jupyter": {
     "outputs_hidden": true
    },
    "tags": []
   },
   "outputs": [
    {
     "name": "stdout",
     "output_type": "stream",
     "text": [
      "1.5077995513925206\n",
      "4.131715822878631\n",
      "4.69713536389794\n",
      "4.976897386540519\n",
      "5.116737830959217\n",
      "5.208004010101257\n",
      "5.417158194017022\n",
      "5.472577070418165\n",
      "5.687580824175509\n",
      "5.786131366000549\n",
      "5.806366127948027\n",
      "5.876868290860333\n",
      "5.855551035081363\n",
      "5.909208450659344\n",
      "6.0033506881491006\n",
      "6.018396131295206\n",
      "6.027970713271618\n",
      "6.044188275821679\n",
      "6.06576517347248\n",
      "6.0743503309892946\n",
      "6.101526078074512\n",
      "6.144866371109819\n",
      "6.141005728594874\n",
      "6.168806072710803\n",
      "6.184785198566742\n",
      "6.209128878695956\n",
      "6.22101477532913\n",
      "6.226971384519635\n",
      "6.249607911747809\n",
      "6.2897745807718\n",
      "6.300934946085573\n",
      "6.32091893611325\n",
      "6.38178443672542\n",
      "6.419170092443138\n",
      "6.437943550481292\n",
      "6.457900807683589\n",
      "6.49394679267947\n",
      "6.503615210521018\n",
      "6.53760169687619\n",
      "6.563175357288027\n",
      "6.593634835283709\n",
      "6.597371922015602\n",
      "6.616873110566664\n",
      "6.615378502633106\n",
      "6.646212408225104\n",
      "6.671869562834491\n",
      "6.693806581417681\n",
      "6.705896312077536\n",
      "6.713406097993843\n",
      "6.742235288335914\n"
     ]
    }
   ],
   "source": [
    "for k in range(0,50):\n",
    "    k=k+1\n",
    "    knn_model=KNeighborsRegressor(n_neighbors=k,n_jobs=-1)\n",
    "    model=knn_model.fit(A_train,b_train)\n",
    "    b_predict=model.predict(A_train)\n",
    "    error=np.sqrt(mean_squared_error(b_train,b_predict))\n",
    "    \n",
    "    print(error)"
   ]
  },
  {
   "cell_type": "code",
   "execution_count": 93,
   "id": "60c44552-07e8-4c48-ae87-ae366792b016",
   "metadata": {},
   "outputs": [],
   "source": [
    "from sklearn.model_selection import GridSearchCV"
   ]
  },
  {
   "cell_type": "code",
   "execution_count": null,
   "id": "2ac52d50-3700-4bf8-bedd-706ec81abe5a",
   "metadata": {},
   "outputs": [],
   "source": []
  },
  {
   "cell_type": "code",
   "execution_count": 95,
   "id": "a429672a-da9c-4fbb-a5fc-8601a070ae3b",
   "metadata": {},
   "outputs": [],
   "source": [
    "knn_values={\"n_neighbors\":np.arange(1,50)}"
   ]
  },
  {
   "cell_type": "code",
   "execution_count": null,
   "id": "bcda5d35-2d24-4e94-9e26-3aca8328ce10",
   "metadata": {},
   "outputs": [],
   "source": []
  },
  {
   "cell_type": "code",
   "execution_count": 96,
   "id": "7390a8cd-58c0-4910-8bcc-32074f5f8347",
   "metadata": {},
   "outputs": [],
   "source": [
    "knn=KNeighborsRegressor()"
   ]
  },
  {
   "cell_type": "code",
   "execution_count": null,
   "id": "1c5d0bea-262a-4bfc-a1a9-075172603509",
   "metadata": {},
   "outputs": [],
   "source": []
  },
  {
   "cell_type": "code",
   "execution_count": 97,
   "id": "e832e5e4-77b3-4968-8633-3253f065bf23",
   "metadata": {},
   "outputs": [],
   "source": [
    "knn_cv=GridSearchCV(knn,knn_values,cv=15)"
   ]
  },
  {
   "cell_type": "code",
   "execution_count": null,
   "id": "b0d9a527-48d8-48af-8687-1595dd1cbe5a",
   "metadata": {},
   "outputs": [],
   "source": []
  },
  {
   "cell_type": "code",
   "execution_count": 98,
   "id": "82e5711b-c6b8-4478-9f09-2ab196f5ac6b",
   "metadata": {},
   "outputs": [
    {
     "data": {
      "text/plain": [
       "GridSearchCV(cv=15, estimator=KNeighborsRegressor(),\n",
       "             param_grid={'n_neighbors': array([ 1,  2,  3,  4,  5,  6,  7,  8,  9, 10, 11, 12, 13, 14, 15, 16, 17,\n",
       "       18, 19, 20, 21, 22, 23, 24, 25, 26, 27, 28, 29, 30, 31, 32, 33, 34,\n",
       "       35, 36, 37, 38, 39, 40, 41, 42, 43, 44, 45, 46, 47, 48, 49])})"
      ]
     },
     "execution_count": 98,
     "metadata": {},
     "output_type": "execute_result"
    }
   ],
   "source": [
    "knn_cv"
   ]
  },
  {
   "cell_type": "code",
   "execution_count": null,
   "id": "b61fac3f-4fe9-48b7-8802-dcc4e761bd92",
   "metadata": {},
   "outputs": [],
   "source": []
  },
  {
   "cell_type": "code",
   "execution_count": 99,
   "id": "2a8b7f0d-35b0-417d-9699-43ea3a5d3eea",
   "metadata": {},
   "outputs": [
    {
     "data": {
      "text/plain": [
       "GridSearchCV(cv=15, estimator=KNeighborsRegressor(),\n",
       "             param_grid={'n_neighbors': array([ 1,  2,  3,  4,  5,  6,  7,  8,  9, 10, 11, 12, 13, 14, 15, 16, 17,\n",
       "       18, 19, 20, 21, 22, 23, 24, 25, 26, 27, 28, 29, 30, 31, 32, 33, 34,\n",
       "       35, 36, 37, 38, 39, 40, 41, 42, 43, 44, 45, 46, 47, 48, 49])})"
      ]
     },
     "execution_count": 99,
     "metadata": {},
     "output_type": "execute_result"
    }
   ],
   "source": [
    "knn_cv.fit(A_train,b_train)"
   ]
  },
  {
   "cell_type": "code",
   "execution_count": null,
   "id": "d58143a1-b9d5-4fe4-bf1a-cc392db7d925",
   "metadata": {},
   "outputs": [],
   "source": []
  },
  {
   "cell_type": "code",
   "execution_count": 100,
   "id": "294067db-ecca-4258-94ce-102e0f95668d",
   "metadata": {},
   "outputs": [
    {
     "data": {
      "text/plain": [
       "{'n_neighbors': 26}"
      ]
     },
     "execution_count": 100,
     "metadata": {},
     "output_type": "execute_result"
    }
   ],
   "source": [
    "knn_cv.best_params_"
   ]
  },
  {
   "cell_type": "code",
   "execution_count": null,
   "id": "7fd4ac9d-8054-4279-be0c-1bf0421645d4",
   "metadata": {},
   "outputs": [],
   "source": []
  },
  {
   "cell_type": "code",
   "execution_count": null,
   "id": "724e8fe3-d527-4297-9fd8-852be64dfbeb",
   "metadata": {},
   "outputs": [],
   "source": []
  },
  {
   "cell_type": "code",
   "execution_count": 101,
   "id": "81c5ea23-6166-412f-a10c-7745124cc10f",
   "metadata": {},
   "outputs": [],
   "source": [
    "#Final Stage"
   ]
  },
  {
   "cell_type": "code",
   "execution_count": null,
   "id": "c40e01ab-d255-4595-9c3a-a23d35e18e06",
   "metadata": {},
   "outputs": [],
   "source": []
  },
  {
   "cell_type": "code",
   "execution_count": 104,
   "id": "eb6dc7e0-9b42-49d8-8957-2af31568301d",
   "metadata": {},
   "outputs": [],
   "source": [
    "knn=KNeighborsRegressor(n_neighbors=26)"
   ]
  },
  {
   "cell_type": "code",
   "execution_count": 105,
   "id": "6b7d189b-84c7-401c-aa7c-1f7cb0c77edd",
   "metadata": {},
   "outputs": [],
   "source": [
    "knn_model=knn.fit(A_train,b_train)"
   ]
  },
  {
   "cell_type": "code",
   "execution_count": 109,
   "id": "a1042066-6e35-4e75-89e0-e50dbea23776",
   "metadata": {},
   "outputs": [],
   "source": [
    "b_predict=knn_model.predict(A_train)"
   ]
  },
  {
   "cell_type": "code",
   "execution_count": 125,
   "id": "b5508351-bac0-41c3-8979-7c7222cbadc6",
   "metadata": {},
   "outputs": [
    {
     "data": {
      "text/plain": [
       "6.209128878695956"
      ]
     },
     "execution_count": 125,
     "metadata": {},
     "output_type": "execute_result"
    }
   ],
   "source": [
    "np.sqrt(mean_squared_error(b_train,b_predict))"
   ]
  },
  {
   "cell_type": "code",
   "execution_count": null,
   "id": "13bca146-5e50-4aa5-944e-f316e92559cc",
   "metadata": {},
   "outputs": [],
   "source": []
  },
  {
   "cell_type": "code",
   "execution_count": 127,
   "id": "e91da1b9-a71e-4075-8039-db00b8b362c3",
   "metadata": {},
   "outputs": [
    {
     "data": {
      "text/plain": [
       "6.534393772016426"
      ]
     },
     "execution_count": 127,
     "metadata": {},
     "output_type": "execute_result"
    }
   ],
   "source": [
    "np.sqrt(-cross_val_score(knn_model,A_train,b_train,cv=10,scoring=\"neg_mean_squared_error\").mean()) #validasyon sonrası değer"
   ]
  },
  {
   "cell_type": "code",
   "execution_count": null,
   "id": "bb6646bb-6049-4894-b2da-005027e73f58",
   "metadata": {},
   "outputs": [],
   "source": []
  },
  {
   "cell_type": "code",
   "execution_count": null,
   "id": "a3f2398b-27b9-4633-a509-b5b9028041ec",
   "metadata": {},
   "outputs": [],
   "source": []
  },
  {
   "cell_type": "code",
   "execution_count": null,
   "id": "214a30f0-0938-4c19-92b8-55b0e4f5f6d5",
   "metadata": {},
   "outputs": [],
   "source": []
  },
  {
   "cell_type": "code",
   "execution_count": null,
   "id": "f3b39d8f-252f-4db0-8b05-de0a0bc26220",
   "metadata": {},
   "outputs": [],
   "source": []
  },
  {
   "cell_type": "code",
   "execution_count": null,
   "id": "cc7c3dbf-b91c-4416-9e15-4364cbed0480",
   "metadata": {},
   "outputs": [],
   "source": []
  },
  {
   "cell_type": "code",
   "execution_count": null,
   "id": "1bfa8a39-48af-467f-9301-f54557b1cbee",
   "metadata": {},
   "outputs": [],
   "source": []
  },
  {
   "cell_type": "code",
   "execution_count": null,
   "id": "f0408fee-9775-4ce4-add9-048a6b1cf7ad",
   "metadata": {},
   "outputs": [],
   "source": []
  },
  {
   "cell_type": "code",
   "execution_count": null,
   "id": "754db511-9e2c-434f-8287-d4f028c406f3",
   "metadata": {},
   "outputs": [],
   "source": []
  },
  {
   "cell_type": "code",
   "execution_count": null,
   "id": "79188de1-7d28-4d78-a87f-218ea11696aa",
   "metadata": {},
   "outputs": [],
   "source": []
  },
  {
   "cell_type": "code",
   "execution_count": null,
   "id": "b071bf93-cd6b-405f-9e5f-fdbf413813bf",
   "metadata": {},
   "outputs": [],
   "source": []
  },
  {
   "cell_type": "code",
   "execution_count": null,
   "id": "b1c8d243-117f-4b70-876f-cfc49d6a37d0",
   "metadata": {},
   "outputs": [],
   "source": []
  },
  {
   "cell_type": "code",
   "execution_count": null,
   "id": "027c6157-bb45-4d8a-b3d0-5562401af077",
   "metadata": {},
   "outputs": [],
   "source": []
  }
 ],
 "metadata": {
  "kernelspec": {
   "display_name": "Python 3 (ipykernel)",
   "language": "python",
   "name": "python3"
  },
  "language_info": {
   "codemirror_mode": {
    "name": "ipython",
    "version": 3
   },
   "file_extension": ".py",
   "mimetype": "text/x-python",
   "name": "python",
   "nbconvert_exporter": "python",
   "pygments_lexer": "ipython3",
   "version": "3.9.7"
  }
 },
 "nbformat": 4,
 "nbformat_minor": 5
}
